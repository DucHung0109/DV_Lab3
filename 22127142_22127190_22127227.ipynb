{
 "cells": [
  {
   "cell_type": "markdown",
   "metadata": {},
   "source": [
    "# **1. Tổng quan**"
   ]
  },
  {
   "cell_type": "markdown",
   "metadata": {},
   "source": [
    "Ở bài tập này, dữ liệu được dùng là dữ liệu từ WorldBank Open Data. Dữ liệu chứa thông tin hơn 200 quốc gia, về các mặt như đời sống, kinh tế-xã hội, giáo dục, môi trường,.... do Ngân hàng thế giới cập nhật từ nhiều nguồn(các quốc gia, tổ chức quốc tế,..)."
   ]
  },
  {
   "cell_type": "markdown",
   "metadata": {},
   "source": [
    "# **2. Thu thập dữ liệu** "
   ]
  },
  {
   "cell_type": "markdown",
   "metadata": {},
   "source": [
    "Ở bước thu thập dữ liệu, chúng em sẽ thu thập dữ liệu qua API với các tham số như đặc trưng, quốc gia, năm."
   ]
  },
  {
   "cell_type": "code",
   "execution_count": 1,
   "metadata": {},
   "outputs": [],
   "source": [
    "import requests\n",
    "import pandas as pd\n",
    "import matplotlib.pyplot as plt\n",
    "import seaborn as sns"
   ]
  },
  {
   "cell_type": "code",
   "execution_count": 2,
   "metadata": {},
   "outputs": [],
   "source": [
    "INDICATOR_CODES = [\n",
    "                   'SE.XPD.TOTL.GD.ZS', # Tỉ lệ chi tiêu của chính phủ cho giáo dục, tổng số (% GDP)\n",
    "                   'SE.XPD.PRIM.PC.ZS', # Tỉ lệ chi tiêu cho giáo dục bậc tiểu học, tổng số (% GDP)\n",
    "                   'SE.XPD.SECO.PC.ZS', # Tỉ lệ chi tiêu cho giáo dục bậc trung học, tổng số (% GDP)\n",
    "                   'SE.XPD.TERT.PC.ZS', # Tỉ lệ chi tiêu cho giáo dục bậc đại học, tổng số (% GDP)\n",
    "                   'SL.EMP.SELF.FE.ZS', # Tỉ lệ lao động có giới tính nữ tự làm chủ (%)\n",
    "                   'SL.EMP.SELF.MA.ZS', # Tỉ lệ lao động có giới tính nam tự làm chủ (%)\n",
    "                   'SL.EMP.SELF.ZS', # Tỉ lệ lao động tự làm chủ (%)\n",
    "                   'SH.DTH.COMM.ZS', # Tỉ lệ tử vong do bệnh truyền nhiễm (%)\n",
    "                   'SH.DTH.INJR.ZS', # Tỉ lệ tử vong do chấn thương (%)\n",
    "                   'SH.DTH.NCOM.ZS', # Tỉ lệ tử vong do bệnh không truyền nhiễm (%)\n",
    "\n",
    "                   'SP.DYN.LE00.IN', # - Tuổi thọ trung bình (Life expectancy at birth, total (years)):​\n",
    "                   'SH.STA.OWAD.ZS', # - Tỷ lệ béo phì ở người trưởng thành (% dân số từ 18 tuổi trở lên) (Prevalence of overweight among adults, BMI ≥ 25 (% of adults))\n",
    "                   'SH.PRV.SMOK', # - Tỷ lệ người hút thuốc ở người trưởng thành (% dân số từ 15 tuổi trở lên) (Smoking prevalence, total (ages 15+)) \n",
    "                   'SH.XPD.CHEX.PC.CD', # - Chi tiêu y tế trên đầu người (Current health expenditure per capita (current US$))\n",
    "                   'IT.NET.USER.ZS', # - Tỷ lệ dân số sử dụng Internet (% tổng dân số) (Individuals using the Internet (% of population))  \n",
    "                   'NY.GDP.PCAP.CD', # - GDP bình quân đầu người (GDP per capita (current US$))\n",
    "                   'EG.ELC.ACCS.ZS', # - Tỷ lệ hộ gia đình có điện (% tổng số hộ gia đình) (Access to electricity (% of population)) \n",
    "                   'TX.VAL.ICTG.ZS.UN', # - Chi tiêu chính phủ vào cơ sở hạ tầng ICT (% GDP) (ICT goods exports (% of total goods exports)) \n",
    "                   'SP.URB.TOTL.IN.ZS', # - Mức độ đô thị hóa (Urban population (% of total population))\n",
    "                   'SE.TER.ENRR', # - Tỷ lệ dân số có trình độ đại học (% độ tuổi tương ứng)\n",
    "                   'SE.ADT.LITR.ZS', # - Tỷ lệ dân số biết đọc biết viết (% người từ 15 tuổi trở lên)\n",
    "                   'NY.GDP.PCAP.CD', # - Mức thu nhập bình quân đầu người (USD)\n",
    "\n",
    "                   'SE.SEC.NENR', # Tỷ lệ nhập học phổ thông\n",
    "                   'SE.PRM.CMPT.ZS', # Tỷ lệ hoàn thành tiểu học(% nhóm tuổi liên quan)\n",
    "                   'SE.SEC.CMPT.LO.ZS', # Tỷ lệ hoàn thành cấp trung học cơ sở(% nhóm tuổi liên quan)\n",
    "                   'SL.TLF.TOTL.FE.ZS', # Tỷ lệ nữ trong tổng số lực lượng lao động\n",
    "                   'SG.GEN.PARL.ZS', # Tỷ lệ nữ trong quốc hội\n",
    "                   'SE.ADT.LITR.FE.ZS', # Tỷ lệ biết chữ của nữ trưởng thành\n",
    "                   'SE.ADT.1524.LT.FM.ZS', # Tỷ lệ biết chữ của nữ so với nam trong nhóm tuổi 15-24 \n",
    "                   'SP.DYN.IMRT.IN', # Tỷ lệ tử vong của trẻ sơ sinh\n",
    "                   'SH.IMM.IDPT', # Tỷ lệ tiêm chủng cho trẻ sơ sinh\n",
    "                   'SH.XPD.CHEX.GD.ZS', # Chi tiêu cho y tế(% GDP)\n",
    "                   'SH.STA.BRTC.ZS', # Tỷ lệ ca sinh được hỗ trợ bởi nhân viên y tế có kĩ năng\n",
    "                   'SH.H2O.SMDW.ZS' # Tỷ lệ dân số tiếp cận được nguồn nước an toàn có sẵn tại chỗ\n",
    "                   ]"
   ]
  },
  {
   "cell_type": "code",
   "execution_count": 3,
   "metadata": {},
   "outputs": [],
   "source": [
    "COUNTRY_CODES = ['AUS', 'AFG', 'BGD', 'BTN', 'BRA', 'CHL', 'CAN', 'CHN', 'CUB', 'DEU', 'DNK', 'EGY', 'ETH', 'GBR',\n",
    "                  'IDN', 'IND', 'JPN', 'KHM', 'LBY', 'MMR', 'MEX', 'SGP', 'PHL', 'RUS', 'THA', 'USA', 'VNM', 'ZWE']"
   ]
  },
  {
   "cell_type": "code",
   "execution_count": 4,
   "metadata": {},
   "outputs": [],
   "source": [
    "def loadData(country_code, start, end, format = \"json\", per_page = 100):\n",
    "\n",
    "    records = {}\n",
    "    for indicator_code in INDICATOR_CODES:\n",
    "        url = f\"https://api.worldbank.org/v2/country/{country_code}/indicator/{indicator_code}?date={start}:{end}&format=json&per_page={per_page}\"\n",
    "        response = requests.get(url) # Lấy về kết quả sau khi gọi api\n",
    "\n",
    "        if response.status_code == 200:\n",
    "\n",
    "            data = response.json() # Chuyển kết quả về dạng json\n",
    "\n",
    "            # Xử lí data để thu được các trường thông tin mong muốn\n",
    "            count = data[0]['total']\n",
    "\n",
    "            for i in range(count):\n",
    "                item = data[1][i]\n",
    "                feature = item['indicator']['value']\n",
    "                country = item['country']['value']\n",
    "                year = item['date']\n",
    "                value = item['value']\n",
    "\n",
    "                if year not in records:\n",
    "                    records[year] = {\"Year\": year}\n",
    "                \n",
    "                records[year]['Country'] = country\n",
    "\n",
    "                records[year][feature] = value\n",
    "            \n",
    "\n",
    "        df = pd.DataFrame(records.values())\n",
    "\n",
    "    return df"
   ]
  },
  {
   "cell_type": "code",
   "execution_count": 5,
   "metadata": {},
   "outputs": [
    {
     "name": "stdout",
     "output_type": "stream",
     "text": [
      "AUS\n",
      "AFG\n"
     ]
    },
    {
     "name": "stderr",
     "output_type": "stream",
     "text": [
      "C:\\Users\\ndh01\\AppData\\Local\\Temp\\ipykernel_3348\\813692037.py:6: FutureWarning: The behavior of DataFrame concatenation with empty or all-NA entries is deprecated. In a future version, this will no longer exclude empty or all-NA columns when determining the result dtypes. To retain the old behavior, exclude the relevant entries before the concat operation.\n",
      "  raw_data = pd.concat([raw_data, df], ignore_index=True)\n"
     ]
    },
    {
     "name": "stdout",
     "output_type": "stream",
     "text": [
      "BGD\n",
      "BTN\n",
      "BRA\n",
      "CHL\n",
      "CAN\n",
      "CHN\n",
      "CUB\n",
      "DEU\n",
      "DNK\n",
      "EGY\n",
      "ETH\n",
      "GBR\n",
      "IDN\n",
      "IND\n",
      "JPN\n",
      "KHM\n",
      "LBY\n",
      "MMR\n",
      "MEX\n",
      "SGP\n",
      "PHL\n",
      "RUS\n",
      "THA\n",
      "USA\n",
      "VNM\n",
      "ZWE\n"
     ]
    }
   ],
   "source": [
    "raw_data = pd.DataFrame()\n",
    "for country in COUNTRY_CODES:\n",
    "    print(country)\n",
    "\n",
    "    df = loadData(country, 1980, 2020)\n",
    "    raw_data = pd.concat([raw_data, df], ignore_index=True)"
   ]
  },
  {
   "cell_type": "code",
   "execution_count": 6,
   "metadata": {},
   "outputs": [],
   "source": [
    "raw_data.head()\n",
    "raw_data.to_csv('Data.csv', index=False)"
   ]
  },
  {
   "cell_type": "markdown",
   "metadata": {},
   "source": [
    "# **3. Tiền xử lý dữ liệu**"
   ]
  },
  {
   "cell_type": "markdown",
   "metadata": {},
   "source": [
    "Tuy dữ liệu có từ những nguồn khá đáng tin cậy, nhưng vẫn có những dữ liệu bị thiếu(năm đó không thực hiện khảo sát,...) hoặc những dữ liệu bị chênh lệch nhiều với phần còn lại. Do đó chúng em sẽ thực hiện bước tiếp theo là phân tích, thống kê mô tả dữ liệu, xử lí các dữ liệu thiếu. Gọi chung là tiền xử lí dữ liệu"
   ]
  },
  {
   "cell_type": "code",
   "execution_count": 1,
   "metadata": {},
   "outputs": [],
   "source": [
    "import pandas as pd"
   ]
  },
  {
   "cell_type": "code",
   "execution_count": 2,
   "metadata": {},
   "outputs": [],
   "source": [
    "raw_data = pd.read_csv('Data.csv')"
   ]
  },
  {
   "cell_type": "markdown",
   "metadata": {},
   "source": [
    "Đầu tiền là đánh giá sơ bộ về dữ liệu, thống kê mô tả các trường dữ liệu"
   ]
  },
  {
   "cell_type": "code",
   "execution_count": 3,
   "metadata": {},
   "outputs": [
    {
     "data": {
      "text/plain": [
       "(1148, 35)"
      ]
     },
     "execution_count": 3,
     "metadata": {},
     "output_type": "execute_result"
    }
   ],
   "source": [
    "raw_data.shape"
   ]
  },
  {
   "cell_type": "markdown",
   "metadata": {},
   "source": [
    "Dữ liệu có ... dòng và ... cột"
   ]
  },
  {
   "cell_type": "code",
   "execution_count": 4,
   "metadata": {},
   "outputs": [
    {
     "name": "stdout",
     "output_type": "stream",
     "text": [
      "<class 'pandas.core.frame.DataFrame'>\n",
      "RangeIndex: 1148 entries, 0 to 1147\n",
      "Data columns (total 35 columns):\n",
      " #   Column                                                                                                 Non-Null Count  Dtype  \n",
      "---  ------                                                                                                 --------------  -----  \n",
      " 0   Year                                                                                                   1148 non-null   int64  \n",
      " 1   Country                                                                                                1148 non-null   object \n",
      " 2   Government expenditure on education, total (% of GDP)                                                  683 non-null    float64\n",
      " 3   Government expenditure per student, primary (% of GDP per capita)                                      226 non-null    float64\n",
      " 4   Government expenditure per student, secondary (% of GDP per capita)                                    207 non-null    float64\n",
      " 5   Government expenditure per student, tertiary (% of GDP per capita)                                     231 non-null    float64\n",
      " 6   Self-employed, female (% of female employment) (modeled ILO estimate)                                  840 non-null    float64\n",
      " 7   Self-employed, male (% of male employment) (modeled ILO estimate)                                      840 non-null    float64\n",
      " 8   Self-employed, total (% of total employment) (modeled ILO estimate)                                    840 non-null    float64\n",
      " 9   Cause of death, by communicable diseases and maternal, prenatal and nutrition conditions (% of total)  112 non-null    float64\n",
      " 10  Cause of death, by injury (% of total)                                                                 112 non-null    float64\n",
      " 11  Cause of death, by non-communicable diseases (% of total)                                              112 non-null    float64\n",
      " 12  Life expectancy at birth, total (years)                                                                1148 non-null   float64\n",
      " 13  Prevalence of overweight (% of adults)                                                                 1036 non-null   float64\n",
      " 14  Prevalence of current tobacco use (% of adults)                                                        182 non-null    float64\n",
      " 15  Current health expenditure per capita (current US$)                                                    567 non-null    float64\n",
      " 16  Individuals using the Internet (% of population)                                                       783 non-null    float64\n",
      " 17  GDP per capita (current US$)                                                                           1115 non-null   float64\n",
      " 18  Access to electricity (% of population)                                                                759 non-null    float64\n",
      " 19  ICT goods exports (% of total goods exports)                                                           504 non-null    float64\n",
      " 20  Urban population (% of total population)                                                               1148 non-null   float64\n",
      " 21  School enrollment, tertiary (% gross)                                                                  810 non-null    float64\n",
      " 22  Literacy rate, adult total (% of people ages 15 and above)                                             160 non-null    float64\n",
      " 23  School enrollment, secondary (% net)                                                                   326 non-null    float64\n",
      " 24  Primary completion rate, total (% of relevant age group)                                               467 non-null    float64\n",
      " 25  Lower secondary completion rate, total (% of relevant age group)                                       371 non-null    float64\n",
      " 26  Labor force, female (% of total labor force)                                                           868 non-null    float64\n",
      " 27  Proportion of seats held by women in national parliaments (%)                                          628 non-null    float64\n",
      " 28  Literacy rate, adult female (% of females ages 15 and above)                                           160 non-null    float64\n",
      " 29  Literacy rate, youth (ages 15-24), gender parity index (GPI)                                           178 non-null    float64\n",
      " 30  Mortality rate, infant (per 1,000 live births)                                                         1148 non-null   float64\n",
      " 31  Immunization, DPT (% of children ages 12-23 months)                                                    1114 non-null   float64\n",
      " 32  Current health expenditure (% of GDP)                                                                  567 non-null    float64\n",
      " 33  Births attended by skilled health staff (% of total)                                                   503 non-null    float64\n",
      " 34  People using safely managed drinking water services (% of population)                                  436 non-null    float64\n",
      "dtypes: float64(33), int64(1), object(1)\n",
      "memory usage: 314.0+ KB\n"
     ]
    }
   ],
   "source": [
    "raw_data.info()"
   ]
  },
  {
   "cell_type": "markdown",
   "metadata": {},
   "source": [
    "- Chỉ có cột `Country` là kiểu `object`, các cột còn lại là kiểu `numeric`, phù hợp để sau này thực hiện trực quan, đánh giá hoặc chạy các mô hình trí tuệ nhân tạo\n",
    "- Các cột vẫn có giá trị rỗng"
   ]
  },
  {
   "cell_type": "code",
   "execution_count": 5,
   "metadata": {},
   "outputs": [
    {
     "name": "stdout",
     "output_type": "stream",
     "text": [
      "Số cột có chứa giá trị rỗng: 30\n"
     ]
    }
   ],
   "source": [
    "# Kiểm tra số cột có giá trị rỗng\n",
    "null_counts = raw_data.isnull().sum()\n",
    "num_columns_with_null = (null_counts > 0).sum()\n",
    "print(f\"Số cột có chứa giá trị rỗng: {num_columns_with_null}\")"
   ]
  },
  {
   "cell_type": "markdown",
   "metadata": {},
   "source": [
    "- Vì đang có khá nhiều nước nên khi trực quan sẽ gây khó khăn cho người xem. Do đó chúng em quyết định sẽ phân loại các nước theo các nhóm `Developed`, `Developing`, `Least developed`.\n",
    "- Do đó, chúng em sẽ điền các giá trị rỗng bằng giá trị trung bình của nhóm nước đó. Vì thường các nước cùng nhóm sẽ có các chỉ số gần nhau."
   ]
  },
  {
   "cell_type": "code",
   "execution_count": 6,
   "metadata": {},
   "outputs": [],
   "source": [
    "developed_countries = ['Australia', 'Canada', 'Germany', 'Denmark', 'United Kingdom', 'Japan', 'Singapore', 'United States']\n",
    "undeveloped_countries = [\"Cambodia\", \"Myanmar\", \"Zimbabwe\"]\n",
    "# Đánh chỉ số 0 cho các nước phát triển, 1 cho các nước đang phát triển, 2 cho các nước chưa phát triển\n",
    "raw_data['Development_Status'] = raw_data['Country'].apply(lambda x: 'Developed' if x in developed_countries else ('Least developed' if x in undeveloped_countries else 'Developing'))"
   ]
  },
  {
   "cell_type": "code",
   "execution_count": 7,
   "metadata": {},
   "outputs": [],
   "source": [
    "# Điền giá trị rỗng bằng trung bình của nhóm\n",
    "numeric_columns = raw_data.select_dtypes(include=['number']).columns\n",
    "raw_data[numeric_columns] = raw_data.groupby(\"Development_Status\")[numeric_columns].transform(lambda x: x.fillna(x.mean()))\n",
    "raw_data.to_csv(\"processed_data.csv\", index=False)\n"
   ]
  },
  {
   "cell_type": "markdown",
   "metadata": {},
   "source": [
    "# **4. Đặt câu hỏi**"
   ]
  },
  {
   "cell_type": "markdown",
   "metadata": {},
   "source": [
    "## Hưng"
   ]
  },
  {
   "cell_type": "markdown",
   "metadata": {},
   "source": [
    "**Sự khác biệt về giáo dục giữa các quốc gia như thế nào?**\n",
    "\n",
    "Đặc trưng cần có:\n",
    "- Tỷ lệ biết chữ (%)\n",
    "- Tỷ lệ nhập học trung học phổ thông và đại học (%)\n",
    "- Chi tiêu giáo dục (% GDP)"
   ]
  },
  {
   "cell_type": "markdown",
   "metadata": {},
   "source": [
    "**Tình trạng bình đẳng giới trên thế giới như thế nào?**\n",
    "\n",
    "Đặc trưng cần có:\n",
    "- Tỷ lệ nữ tham gia vào lực lượng lao động (%)\n",
    "- Sự chênh lệch thu nhập giữa nam và nữ (Gender wage gap)\n",
    "- Tỷ lệ nữ trong quốc hội (%)\n",
    "- Trình độ học vấn trung bình của nữ và nam"
   ]
  },
  {
   "cell_type": "markdown",
   "metadata": {},
   "source": [
    "**Các yếu tố nào ảnh hưởng đến tỷ lệ tử vong trẻ sơ sinh? Tình trạng y tế cho trẻ sơ sinh**\n",
    "\n",
    "Đặc trưng cần có:\n",
    "\n",
    "- Tỷ lệ tử vong trẻ sơ sinh (Infant Mortality Rate, per 1,000 live births)\n",
    "- Tỷ lệ tiêm chủng (Immunization rate, % of children vaccinated)\n",
    "- Chi tiêu y tế (% GDP)\n",
    "- Nguồn nước sạch (% dân số tiếp n cậđược)"
   ]
  },
  {
   "cell_type": "markdown",
   "metadata": {},
   "source": [
    "## Khánh"
   ]
  },
  {
   "cell_type": "markdown",
   "metadata": {},
   "source": [
    "**Những yếu tố nào ảnh hưởng đến tuổi thọ trung bình của con người?**\n",
    "\n",
    "Đặc trưng cần có: \n",
    "\n",
    "- Tuổi thọ trung bình (Life expectancy at birth, total (years)): SP.DYN.LE00.IN​\n",
    "\n",
    "- Tỷ lệ béo phì ở người trưởng thành (% dân số từ 18 tuổi trở lên) (Prevalence of overweight among adults, BMI ≥ 25 (% of adults)): SH.STA.OWAD.ZS​\n",
    "\n",
    "- Tỷ lệ người hút thuốc ở người trưởng thành (% dân số từ 15 tuổi trở lên) (Smoking prevalence, total (ages 15+)): SH.PRV.SMOK​\n",
    "\n",
    "- Chi tiêu y tế trên đầu người (Current health expenditure per capita (current US$)): SH.XPD.CHEX.PC.CD​"
   ]
  },
  {
   "cell_type": "markdown",
   "metadata": {},
   "source": [
    "**Những yếu tố nào ảnh hưởng đến tỷ lệ sử dụng Internet ở các quốc gia?**\n",
    "\n",
    "Đặc trưng cần có:\n",
    "\n",
    "- Tỷ lệ dân số sử dụng Internet (% tổng dân số) (Individuals using the Internet (% of population)) → IT.NET.USER.ZS\n",
    "\n",
    "- GDP bình quân đầu người (GDP per capita (current US$)) → NY.GDP.PCAP.CD\n",
    "\n",
    "- Tỷ lệ hộ gia đình có điện (% tổng số hộ gia đình) (Access to electricity (% of population)) → EG.ELC.ACCS.ZS\n",
    "\n",
    "- Chi tiêu chính phủ vào cơ sở hạ tầng ICT (% GDP) (ICT goods exports (% of total goods exports)) → TX.VAL.ICTG.ZS.UN\n",
    "\n",
    "- Mức độ đô thị hóa (Urban population (% of total population)) → SP.URB.TOTL.IN.ZS\n",
    "\n"
   ]
  },
  {
   "cell_type": "markdown",
   "metadata": {},
   "source": [
    "**Giáo dục có thực sự giúp nâng cao thu nhập và cải thiện chất lượng sống?**\n",
    "\n",
    "Đặc trưng cần có:\n",
    "\n",
    "- Tỷ lệ dân số có trình độ đại học (% độ tuổi tương ứng) → SE.TER.ENRR\n",
    "\n",
    "- Tỷ lệ dân số biết đọc biết viết (% người từ 15 tuổi trở lên) → SE.ADT.LITR.ZS\n",
    "\n",
    "- Mức thu nhập bình quân đầu người (USD) → NY.GDP.PCAP.CD"
   ]
  },
  {
   "cell_type": "markdown",
   "metadata": {},
   "source": [
    "## Kỳ"
   ]
  },
  {
   "cell_type": "markdown",
   "metadata": {},
   "source": [
    "**Chính phủ chi bao nhiêu phần trăm GDP bình quân đầu người cho mỗi học sinh ở bậc tiểu học, trung học và đại học?**\n",
    "\n",
    "Đặc trưng cần có:\n",
    "- Tỉ lệ chi tiêu của chính phủ cho giáo dục, tổng số (% GDP)\n",
    "- Tỉ lệ chi tiêu cho giáo dục bậc tiểu học, tổng số (% GDP)\n",
    "- Tỉ lệ chi tiêu cho giáo dục bậc trung học, tổng số (% GDP)\n",
    "- Tỉ lệ chi tiêu cho giáo dục bậc đại học, tổng số (% GDP)"
   ]
  },
  {
   "cell_type": "markdown",
   "metadata": {},
   "source": [
    "**Tỷ lệ nữ giới tự làm chủ (Self-employed, female) có cao hơn hay thấp hơn so với nam giới (Self-employed, male)? Điều này phản ánh điều gì về cơ hội kinh tế giữa hai giới?**\n",
    "\n",
    "Đặc trưng cần có:\n",
    "- Tỉ lệ lao động tự làm chủ (%)\n",
    "- Tỉ lệ lao động có giới tính nam tự làm chủ (%)\n",
    "- Tỉ lệ lao động có giới tính nữ tự làm chủ (%)"
   ]
  },
  {
   "cell_type": "markdown",
   "metadata": {},
   "source": [
    "**Các nguyên nhân chính gây ra sự tử vong ở các nước. Kết quả có phản ánh đúng về tuổi thọ trung bình ở các nước không?**\n",
    "\n",
    "Đặc trưng cần có:\n",
    "- Tỉ lệ tử vong do chấn thương (%)\n",
    "- Tỉ lệ tử vong do bệnh không truyền nhiễm (%)\n",
    "- Tỉ lệ tử vong do bệnh truyền nhiễm (%)\n",
    "- Tuổi thọ trung bình (năm)\n"
   ]
  }
 ],
 "metadata": {
  "kernelspec": {
   "display_name": "base",
   "language": "python",
   "name": "python3"
  },
  "language_info": {
   "codemirror_mode": {
    "name": "ipython",
    "version": 3
   },
   "file_extension": ".py",
   "mimetype": "text/x-python",
   "name": "python",
   "nbconvert_exporter": "python",
   "pygments_lexer": "ipython3",
   "version": "3.12.3"
  }
 },
 "nbformat": 4,
 "nbformat_minor": 2
}
