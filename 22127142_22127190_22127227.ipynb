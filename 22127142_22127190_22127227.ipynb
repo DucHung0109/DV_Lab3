{
 "cells": [
  {
   "cell_type": "markdown",
   "metadata": {},
   "source": [
    "# **1. Tổng quan**"
   ]
  },
  {
   "cell_type": "markdown",
   "metadata": {},
   "source": [
    "Ở bài tập này, dữ liệu được dùng là dữ liệu từ WorldBank Open Data. Dữ liệu chứa thông tin hơn 200 quốc gia, về các mặt như đời sống, kinh tế-xã hội, giáo dục, môi trường,.... do Ngân hàng thế giới cập nhật từ nhiều nguồn(các quốc gia, tổ chức quốc tế,..)."
   ]
  },
  {
   "cell_type": "markdown",
   "metadata": {},
   "source": [
    "# **2. Thu thập dữ liệu** "
   ]
  },
  {
   "cell_type": "markdown",
   "metadata": {},
   "source": [
    "Ở bước thu thập dữ liệu, chúng em sẽ thu thập dữ liệu qua API với các tham số như đặc trưng, quốc gia, năm."
   ]
  },
  {
   "cell_type": "code",
   "execution_count": null,
   "metadata": {},
   "outputs": [],
   "source": [
    "import requests\n",
    "import pandas as pd\n",
    "import matplotlib.pyplot as plt\n",
    "import seaborn as sns"
   ]
  },
  {
   "cell_type": "code",
   "execution_count": null,
   "metadata": {},
   "outputs": [],
   "source": [
    "INDICATOR_CODES = ['SP.POP.TOTL', # Tổng dân số\n",
    "                   'SP.POP.TOTL.FE.IN', # Dân số nữ\n",
    "                   'SP.POP.TOTL.MA.IN', # Dân số nam\n",
    "                   'SP.DYN.CBRT.IN', # Tỉ lệ sinh(Trên 1000 dân)\n",
    "                   'SP.DYN.CDRT.IN', # Tỉ lệ tử(Trên 1000 dân)\n",
    "                   'NY.GDP.MKTP.CD', # GDP(USD)\n",
    "                   'SL.UEM.TOTL.ZS', # Tỉ lệ thất nghiệp(%)\n",
    "                   'SP.URB.TOTL.IN.ZS', # Tỉ lệ dân số đô thị(%)\n",
    "                   'NE.EXP.GNFS.ZS', # Xuất khẩu hàng hóa và dịch vụ(%GPD)\n",
    "                   'NE.IMP.GNFS.ZS', # Nhập khẩu hàng hóa và dịch vụ(%GPD)\n",
    "                   'NY.GDP.MKTP.KD.ZG', #Tốc độ tăng trưởng GPD(%)\n",
    "                   'SP.URB.GROW', # Tốc độ tăng trưởng dân số đô thị hằng năm(%)\n",
    "                   'SP.DYN.TFRT.IN', # Tổng tỉ suất sinh(Số con trung bình của 1 phụ nữ)\n",
    "                   'SL.AGR.EMPL.ZS', # Tỉ lệ lao động ở ngành nông nghiệp(%)\n",
    "                   'SL.IND.EMPL.ZS', # Tỉ lệ lao động ở ngành công nghiệp(%)\n",
    "                   'SL.SRV.EMPL.ZS',  # Tỉ lệ lao động ở ngành dịch vụ(%)\n",
    "                   'NV.AGR.TOTL.ZS', # Tỉ trọng ngành nông nghiệp(%GDP)\n",
    "                   'NV.IND.TOTL.ZS', # Tỉ trọng ngành công nghiệp(%GDP)\n",
    "                   'NV.SRV.TOTL.ZS', # Tỉ trọng ngành dịch vụ(%GDP)\n",
    "                   'SE.XPD.TOTL.GD.ZS', # Tỉ lệ chi tiêu của chính phủ cho giáo dục, tổng số (% GDP)\n",
    "                   'SE.XPD.PRIM.PC.ZS', # Tỉ lệ chi tiêu cho giáo dục bậc tiểu học, tổng số (% GDP)\n",
    "                   'SE.XPD.SECO.PC.ZS', # Tỉ lệ chi tiêu cho giáo dục bậc trung học, tổng số (% GDP)\n",
    "                   'SE.XPD.TERT.PC.ZS', # Tỉ lệ chi tiêu cho giáo dục bậc đại học, tổng số (% GDP)\n",
    "                   'SL.EMP.SELF.FE.ZS', # Tỉ lệ lao động có giới tính nữ tự làm chủ (%)\n",
    "                   'SL.EMP.SELF.MA.ZS', # Tỉ lệ lao động có giới tính nam tự làm chủ (%)\n",
    "                   'SL.EMP.SELF.ZS', # Tỉ lệ lao động tự làm chủ (%)\n",
    "                   'SH.DTH.COMM.ZS', # Tỉ lệ tử vong do bệnh truyền nhiễm (%)\n",
    "                   'SH.DTH.INJR.ZS', # Tỉ lệ tử vong do chấn thương (%)\n",
    "                   'SH.DTH.NCOM.ZS', # Tỉ lệ tử vong do bệnh không truyền nhiễm (%)\n",
    "\n",
    "                   ]"
   ]
  },
  {
   "cell_type": "code",
   "execution_count": null,
   "metadata": {},
   "outputs": [],
   "source": [
    "COUNTRY_CODES = ['AUS', 'AFG', 'BGD', 'BTN', 'BRA', 'CHL', 'CAN', 'CHN', 'CUB', 'DEU', 'DNK', 'EGY', 'ETH', 'GBR',\n",
    "                  'IDN', 'IND', 'JPN', 'KHM', 'LBY', 'MMR', 'MEX', 'SGP', 'PHL', 'RUS', 'THA', 'USA', 'VNM', 'ZWE']"
   ]
  },
  {
   "cell_type": "code",
   "execution_count": null,
   "metadata": {},
   "outputs": [],
   "source": [
    "def loadData(country_code, start, end, format = \"json\", per_page = 100):\n",
    "\n",
    "    records = {}\n",
    "    for indicator_code in INDICATOR_CODES:\n",
    "        url = f\"https://api.worldbank.org/v2/country/{country_code}/indicator/{indicator_code}?date={start}:{end}&format=json&per_page={per_page}\"\n",
    "        response = requests.get(url) # Lấy về kết quả sau khi gọi api\n",
    "\n",
    "        if response.status_code == 200:\n",
    "\n",
    "            data = response.json() # Chuyển kết quả về dạng json\n",
    "\n",
    "            # Xử lí data để thu được các trường thông tin mong muốn\n",
    "            count = data[0]['total']\n",
    "\n",
    "            for i in range(count):\n",
    "                item = data[1][i]\n",
    "                feature = item['indicator']['value']\n",
    "                country = item['country']['value']\n",
    "                year = item['date']\n",
    "                value = item['value']\n",
    "\n",
    "                if year not in records:\n",
    "                    records[year] = {\"Year\": year}\n",
    "                \n",
    "                records[year]['Country'] = country\n",
    "\n",
    "                records[year][feature] = value\n",
    "            \n",
    "\n",
    "        df = pd.DataFrame(records.values())\n",
    "\n",
    "    return df"
   ]
  },
  {
   "cell_type": "code",
   "execution_count": null,
   "metadata": {},
   "outputs": [],
   "source": [
    "raw_data = pd.DataFrame()\n",
    "for country in COUNTRY_CODES:\n",
    "    print(country)\n",
    "\n",
    "    df = loadData(country, 1980, 2020)\n",
    "    raw_data = pd.concat([raw_data, df], ignore_index=True)"
   ]
  },
  {
   "cell_type": "code",
   "execution_count": null,
   "metadata": {},
   "outputs": [],
   "source": [
    "raw_data.head()\n",
    "raw_data.to_csv('Data.csv', index=False)"
   ]
  },
  {
   "cell_type": "markdown",
   "metadata": {},
   "source": [
    "# **3. Tiền xử lý dữ liệu**"
   ]
  },
  {
   "cell_type": "markdown",
   "metadata": {},
   "source": [
    "Tuy dữ liệu có từ những nguồn khá đáng tin cậy, nhưng vẫn có những dữ liệu bị thiếu(năm đó không thực hiện khảo sát,...) hoặc những dữ liệu bị chênh lệch nhiều với phần còn lại. Do đó chúng em sẽ thực hiện bước tiếp theo là phân tích, thống kê mô tả dữ liệu, xử lí các dữ liệu thiếu. Gọi chung là tiền xử lí dữ liệu"
   ]
  },
  {
   "cell_type": "code",
   "execution_count": null,
   "metadata": {},
   "outputs": [],
   "source": [
    "import pandas as pd"
   ]
  },
  {
   "cell_type": "code",
   "execution_count": null,
   "metadata": {},
   "outputs": [],
   "source": [
    "raw_data = pd.read_csv('Data.csv')"
   ]
  },
  {
   "cell_type": "markdown",
   "metadata": {},
   "source": [
    "Đầu tiền là đánh giá sơ bộ về dữ liệu, thống kê mô tả các trường dữ liệu"
   ]
  },
  {
   "cell_type": "code",
   "execution_count": null,
   "metadata": {},
   "outputs": [],
   "source": [
    "raw_data.shape"
   ]
  },
  {
   "cell_type": "markdown",
   "metadata": {},
   "source": [
    "Dữ liệu có ... dòng và ... cột"
   ]
  },
  {
   "cell_type": "code",
   "execution_count": null,
   "metadata": {},
   "outputs": [],
   "source": [
    "raw_data.info()"
   ]
  },
  {
   "cell_type": "markdown",
   "metadata": {},
   "source": [
    "- Chỉ có cột `Country` là kiểu `object`, các cột còn lại là kiểu `numeric`, phù hợp để sau này thực hiện trực quan, đánh giá hoặc chạy các mô hình trí tuệ nhân tạo\n",
    "- Các cột vẫn có giá trị rỗng"
   ]
  },
  {
   "cell_type": "code",
   "execution_count": null,
   "metadata": {},
   "outputs": [],
   "source": [
    "# Kiểm tra số cột có giá trị rỗng\n",
    "null_counts = raw_data.isnull().sum()\n",
    "num_columns_with_null = (null_counts > 0).sum()\n",
    "print(f\"Số cột có chứa giá trị rỗng: {num_columns_with_null}\")"
   ]
  },
  {
   "cell_type": "markdown",
   "metadata": {},
   "source": [
    "- Vì đang có khá nhiều nước nên khi trực quan sẽ gây khó khăn cho người xem. Do đó chúng em quyết định sẽ phân loại các nước theo các nhóm `Developed`, `Developing`, `Least developed`.\n",
    "- Do đó, chúng em sẽ điền các giá trị rỗng bằng giá trị trung bình của nhóm nước đó. Vì thường các nước cùng nhóm sẽ có các chỉ số gần nhau."
   ]
  },
  {
   "cell_type": "code",
   "execution_count": null,
   "metadata": {},
   "outputs": [],
   "source": [
    "developed_countries = ['Australia', 'Canada', 'Germany', 'Denmark', 'United Kingdom', 'Japan', 'Singapore', 'United States']\n",
    "undeveloped_countries = [\"Cambodia\", \"Myanmar\", \"Zimbabwe\"]\n",
    "# Đánh chỉ số 0 cho các nước phát triển, 1 cho các nước đang phát triển, 2 cho các nước chưa phát triển\n",
    "raw_data['Development_Status'] = raw_data['Country'].apply(lambda x: 'Developed' if x in developed_countries else ('Least developed' if x in undeveloped_countries else 'Developing'))"
   ]
  },
  {
   "cell_type": "code",
   "execution_count": null,
   "metadata": {},
   "outputs": [],
   "source": [
    "# Điền giá trị rỗng bằng trung bình của nhóm\n",
    "numeric_columns = raw_data.select_dtypes(include=['number']).columns\n",
    "raw_data[numeric_columns] = raw_data.groupby(\"Development_Status\")[numeric_columns].transform(lambda x: x.fillna(x.mean()))\n",
    "raw_data.to_csv(\"processed_data.csv\", index=False)"
   ]
  },
  {
   "cell_type": "markdown",
   "metadata": {},
   "source": [
    "# **4. Đặt câu hỏi**"
   ]
  },
  {
   "cell_type": "markdown",
   "metadata": {},
   "source": [
    "## Hưng"
   ]
  },
  {
   "cell_type": "markdown",
   "metadata": {},
   "source": [
    "**Sự khác biệt về giáo dục giữa các quốc gia như thế nào?**\n",
    "\n",
    "Đặc trưng cần có:\n",
    "- Tỷ lệ biết chữ (%)\n",
    "- Tỷ lệ nhập học trung học phổ thông và đại học (%)\n",
    "- Chi tiêu giáo dục (% GDP)"
   ]
  },
  {
   "cell_type": "markdown",
   "metadata": {},
   "source": [
    "**Tình trạng bình đẳng giới trên thế giới như thế nào?**\n",
    "\n",
    "Đặc trưng cần có:\n",
    "- Tỷ lệ nữ tham gia vào lực lượng lao động (%)\n",
    "- Sự chênh lệch thu nhập giữa nam và nữ (Gender wage gap)\n",
    "- Tỷ lệ nữ trong quốc hội (%)\n",
    "- Trình độ học vấn trung bình của nữ và nam"
   ]
  },
  {
   "cell_type": "markdown",
   "metadata": {},
   "source": [
    "**Các yếu tố nào ảnh hưởng đến tỷ lệ tử vong trẻ sơ sinh? Tình trạng y tế, sức khỏe cộng đồng ở các nhóm nước**\n",
    "\n",
    "Đặc trưng cần có:\n",
    "\n",
    "- Tỷ lệ tử vong trẻ sơ sinh (Infant Mortality Rate, per 1,000 live births)\n",
    "- Tỷ lệ tiêm chủng (Immunization rate, % of children vaccinated)\n",
    "- Chi tiêu y tế (% GDP)\n",
    "- Nguồn nước sạch (% dân số tiếp cận được)"
   ]
  },
  {
   "cell_type": "markdown",
   "metadata": {},
   "source": [
    "## Khánh"
   ]
  },
  {
   "cell_type": "markdown",
   "metadata": {},
   "source": [
    "## Kỳ"
   ]
  },
  {
   "cell_type": "markdown",
   "metadata": {},
   "source": [
    "**Chính phủ chi bao nhiêu phần trăm GDP bình quân đầu người cho mỗi học sinh ở bậc tiểu học, trung học và đại học?**\n",
    "\n",
    "Đặc trưng cần có:\n",
    "- Tỉ lệ chi tiêu của chính phủ cho giáo dục, tổng số (% GDP)\n",
    "- Tỉ lệ chi tiêu cho giáo dục bậc tiểu học, tổng số (% GDP)\n",
    "- Tỉ lệ chi tiêu cho giáo dục bậc trung học, tổng số (% GDP)\n",
    "- Tỉ lệ chi tiêu cho giáo dục bậc đại học, tổng số (% GDP)"
   ]
  },
  {
   "cell_type": "markdown",
   "metadata": {},
   "source": [
    "**Tỷ lệ nữ giới tự làm chủ (Self-employed, female) có cao hơn hay thấp hơn so với nam giới (Self-employed, male)? Điều này phản ánh điều gì về cơ hội kinh tế giữa hai giới?**\n",
    "\n",
    "Đặc trưng cần có:\n",
    "- Tỉ lệ lao động tự làm chủ (%)\n",
    "- Tỉ lệ lao động có giới tính nam tự làm chủ (%)\n",
    "- Tỉ lệ lao động có giới tính nữ tự làm chủ (%)"
   ]
  },
  {
   "cell_type": "markdown",
   "metadata": {},
   "source": [
    "**Tỷ lệ nữ giới tự làm chủ (Self-employed, female) có cao hơn hay thấp hơn so với nam giới (Self-employed, male)? Điều này phản ánh điều gì về cơ hội kinh tế giữa hai giới?**\n",
    "\n",
    "Đặc trưng cần có:\n",
    "- Tỉ lệ lao động tự làm chủ (%)\n",
    "- Tỉ lệ lao động có giới tính nam tự làm chủ (%)\n",
    "- Tỉ lệ lao động có giới tính nữ tự làm chủ (%)"
   ]
  },
  {
   "cell_type": "markdown",
   "metadata": {},
   "source": [
    "**Các nguyên nhân chính gây ra sự tử vong ở các nước. Kết quả có phản ánh mức độ phát triển của hệ thống y tế không?**\n",
    "\n",
    "Đặc trưng cần có:\n",
    "- Tỉ lệ tử vong do chấn thương (%)\n",
    "- Tỉ lệ tử vong do bệnh không truyền nhiễm (%)\n",
    "- Tỉ lệ tử vong do bệnh truyền nhiễm (%)\n"
   ]
  },
  {
   "cell_type": "code",
   "execution_count": null,
   "metadata": {},
   "outputs": [],
   "source": []
  }
 ],
 "metadata": {
  "kernelspec": {
   "display_name": "base",
   "language": "python",
   "name": "python3"
  },
  "language_info": {
   "name": "python",
   "version": "3.12.3"
  }
 },
 "nbformat": 4,
 "nbformat_minor": 2
}
